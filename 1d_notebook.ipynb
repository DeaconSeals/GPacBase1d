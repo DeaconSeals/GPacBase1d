{
 "cells": [
  {
   "cell_type": "markdown",
   "id": "29e687ec",
   "metadata": {},
   "source": [
    "# Assignment 1d Notebook: Multi-Objective EA\n",
    "This notebook is the final notebook in assignment series 1 and further iterates on the progress you've made so far. This notebook will guide you through a novel implementation of a multi-objective EA (MOEA) that utilizes the EA framework you've been implementing since Assignment 1b as much as possible. Similar to the previous assignments, you should copy over the following files:\n",
    "* 1a_notebook.ipynb\n",
    "* 1b_notebook.ipynb\n",
    "* 1c_notebook0.ipynb\n",
    "* 1c_notebook1.ipynb\n",
    "* baseEvolution.py\n",
    "* binaryGenotype.py\n",
    "* selection.py\n",
    "* selfAdaptiveEvolution.py\n",
    "* selfAdaptiveGenotype.py\n",
    "\n",
    "\n",
    "*Be careful* to not copy over functions relating to the provided fitness functions, GPac, and static agents. We have updated `fitness.py` for this assignment, so be particularly careful not to accidentally copy the old version from Assignment 1c.\n",
    "\n",
    "As usual, be sure to **read all of this notebook** and you can start by executing the next cell."
   ]
  },
  {
   "cell_type": "code",
   "execution_count": null,
   "id": "8f38beb3",
   "metadata": {},
   "outputs": [],
   "source": [
    "# Configure this notebook to automatically reload modules as they're modified\n",
    "# https://stackoverflow.com/questions/1907993/autoreload-of-modules-in-ipython\n",
    "%load_ext autoreload\n",
    "%autoreload 2\n",
    "\n",
    "import matplotlib.pyplot as plt\n",
    "\n",
    "%matplotlib inline\n",
    "plt.rcParams['figure.figsize'] = (12.0, 12.0) # set default size of plots\n",
    "plt.rcParams['image.interpolation'] = 'nearest'\n",
    "plt.rcParams['image.cmap'] = 'gray'\n",
    "\n",
    "# define utility plotting function\n",
    "def plotMap(maze):\n",
    "    '''A so-so map plotting function'''\n",
    "    pltmaze = [[None for __ in range(len(maze))] for _ in range(len(maze[0]))]\n",
    "    for y in range(len(maze[0])):\n",
    "        for x in range(len(maze)):\n",
    "            pltmaze[y][x] = 0 if maze[x][y]==1 else 1\n",
    "    plt.matshow(pltmaze, origin='lower')\n",
    "    plt.xticks(range(len(pltmaze[0])))\n",
    "    plt.yticks(range(len(pltmaze)))\n",
    "    plt.gca().set_xticks([x - 0.5 for x in plt.gca().get_xticks()][1:], minor='true')\n",
    "    plt.gca().set_yticks([y - 0.5 for y in plt.gca().get_yticks()][1:], minor='true')\n",
    "    plt.grid(which='minor')\n",
    "    plt.show()\n",
    "\n",
    "print('The first cell has been executed!')"
   ]
  },
  {
   "cell_type": "markdown",
   "id": "3fc845e8",
   "metadata": {},
   "source": [
    "## Multi-Objective Fitness Evaluations\n",
    "In a traditional MOEA implementation like the Non-dominated Sorting Genetic Algorithm II [(NSGA-II)](https://ieeexplore.ieee.org/abstract/document/996017?casa_token=sIy9DHU74qAAAAAA:f9M0Nu6WrHIswdRILFlqhxUqW-rK1nfke65Xw88A1JNX5TaaXZAL76yrC3L8WncdUlrDi25Y7Zo), individuals in a population are assessed by multiple objectives, assigned a score for each objective, and are then sorted into levels of non-domination (more on that later) during parent and survival selection. In a traditional MOEA implementation, you might write a multi-objective version of k-tournament that samples k individuals from the population and selects the winner as the individual who is on the Pareto front from those k individuals. This formulation thus doesn't use a single-value notion of fitness as your existing k-tournament implementations do.\n",
    "\n",
    "To enable the re-use of your existing selection algorithms, we propose a novel MOEA implementation that assigns individuals in a population a singular fitness value based on their level of non-domination. This behaves in a functionally equivalent manner in the rank-based selection algorithms used in traditional MOEA implementations. This also lets you use non-traditional selection algorithms like Fitness Proportional Selection in your MOEA, though they may perform poorly.\n",
    "\n",
    "In your MOEA for this assignment, you will do the following:\n",
    "* Evaluate new members in a population to assign objective scores\n",
    "* Construct a domination table for *all* individuals in the population\n",
    "* Sort the population into levels of non-domination where level 0 is the Pareto front\n",
    "* To each individual in the population, assign a representative fitness that is inversely proportional to their level of non-domination \n",
    " - i.e., `num_levels - my_level`\n",
    "\n",
    "To accomplish this, you'll implement three functions:\n",
    "1. `evaluate_popluation` - which assigns objective score to new population members after generation\n",
    "2. `dominates` - which takes individuals `A` and `B` as  inputs and returns `True` if `A` dominates `B`\n",
    "3. `non_domination_sort` - which sorts the population into levels of non-domination and assigns a representative fitness.\n",
    "\n",
    "First, let's start by showing an example of the multi-objective fitness function."
   ]
  },
  {
   "cell_type": "code",
   "execution_count": null,
   "id": "e2b431de",
   "metadata": {},
   "outputs": [],
   "source": [
    "from selection import *\n",
    "from snakeeyes import readConfig\n",
    "from binaryGenotype import binaryGenotype\n",
    "from fitness import repair_and_test_map, translate_gene, repair_map\n",
    "\n",
    "config = readConfig('./configs/green1d_config.txt', globalVars=globals(), localVars=locals())\n",
    "\n",
    "testSolution = binaryGenotype()\n",
    "testSolution.randomInitialization(**config['initialization_kwargs'])\n",
    "\n",
    "testSolution.objectives, testSolution.log = repair_and_test_map(testSolution.gene, **config['fitness_kwargs'])\n",
    "# testSolution.rawFitness = testSolution.objectives[0]\n",
    "\n",
    "game_log_path = 'worldFiles/1dnotebooktest.txt'\n",
    "with open(game_log_path, 'w') as f:\n",
    "\t[f.write(f'{line}\\n') for line in testSolution.log]\n",
    "    \n",
    "print(f\"The solution's objective scores are {testSolution.objectives} and the game log was written to {game_log_path}\")\n",
    "print('The solution map looks like this:')\n",
    "repaired_map, _ = repair_map(translate_gene(testSolution.gene, config['fitness_kwargs']['height'], config['fitness_kwargs']['width']))\n",
    "plotMap(repaired_map)\n",
    "\n",
    "del testSolution # to prevent haphazard copypasta"
   ]
  },
  {
   "cell_type": "markdown",
   "id": "3e07646c",
   "metadata": {},
   "source": [
    "Notice that this time the `repair_and_test_map` function returned a list of values instead of a single value. The first value is negative average pac-man score like the previous assignments. The second value is the negative of the count of cells on the map surrounded by 3 walls (aka the negative count of dead ends). We want to maximize both of these objectives and assume that they are conflicting objectives since dead ends make great traps for pac-man. The number of dead ends should match with the visualization generated above.\n",
    "\n",
    "Note: `repair_and_test_map` returns a list here because the config file defines the fitness keyword argument `minimize_dead_ends = True`."
   ]
  },
  {
   "cell_type": "markdown",
   "id": "cbab9690",
   "metadata": {},
   "source": [
    "Now that you've seen an example of calling the fitness function in a new way, write an `evaluate_population` function that takes as input a population and fitness_kwargs dictionary and populates the `objectives` and `log` member variables of all individuals in the population."
   ]
  },
  {
   "cell_type": "code",
   "execution_count": null,
   "id": "96a0a5ef",
   "metadata": {},
   "outputs": [],
   "source": [
    "# evaluate the population and assign objectives and logs as described above\n",
    "def evaluate_population(population, fitness_kwargs):\n",
    "    if fitness_kwargs.get('return_repair_count') != True:\n",
    "        #GREEN deliverable logic goes here\n",
    "        pass\n",
    "    else:\n",
    "        #RED deliverable logic goes here (if attempted)\n",
    "        pass"
   ]
  },
  {
   "cell_type": "code",
   "execution_count": null,
   "id": "a6096ce7",
   "metadata": {},
   "outputs": [],
   "source": [
    "import statistics\n",
    "\n",
    "examplePopulation = binaryGenotype.initialization(10, **config['initialization_kwargs'])\n",
    "for individual in examplePopulation:\n",
    "    individual.objectives = None\n",
    "\n",
    "# calling your function to test things out\n",
    "evaluate_population(examplePopulation, config['fitness_kwargs'])\n",
    "print(f'Individuals with unassigned objectives: {len([individual.objectives for individual in examplePopulation if individual.objectives is None])}')\n",
    "print(f'Number of fitness evaluations performed: {len([individual.objectives for individual in examplePopulation if individual.objectives is not None])}')\n",
    "if config['fitness_kwargs'].get('minimize_dead_ends') == True:\n",
    "    print(f'Average value of pac-man score objective: {statistics.mean([individual.objectives[0] for individual in examplePopulation])}')\n",
    "    print(f'Average value of dead end objective: {statistics.mean([individual.objectives[1] for individual in examplePopulation])}')\n",
    "\n",
    "del examplePopulation"
   ]
  },
  {
   "cell_type": "markdown",
   "id": "dfce10b5",
   "metadata": {},
   "source": [
    "## Multi-Objective Domination\n",
    "As discussed in the course lectures, a prevalent way to assess solutions in an MOEA is to determine whether or not a solution *dominates* another solution in the population. Recall from the lecture that an individual `A` is said to dominate an individual `B` if and only if:\n",
    "* `A` is no worse than `B` in all objectives *AND*\n",
    "* `A` is strictly better than `B` in at least one objective\n",
    "\n",
    "In the next cell, implement the function `dominates` that compares the `objectives` member variables of the input individuals returns `True` if `A` dominates `B` and `False` otherwise."
   ]
  },
  {
   "cell_type": "code",
   "execution_count": null,
   "id": "28245d0c",
   "metadata": {},
   "outputs": [],
   "source": [
    "# compare the individuals as described above\n",
    "def dominates(A, B):\n",
    "    pass"
   ]
  },
  {
   "cell_type": "markdown",
   "id": "97ccd6ec",
   "metadata": {},
   "source": [
    "To evaluate your implementation of the `dominates` function, we're going to compare against the model answer from Question 11 of the second exam from Fall 2020 [(link here)](http://bonsai.auburn.edu/dtauritz/courses/ec/intro/2020fall/IntroECfs2020exam2key.pdf). The output generated by executing the following cell should match the domination table from part (a) of that problem."
   ]
  },
  {
   "cell_type": "code",
   "execution_count": null,
   "id": "ad489db5",
   "metadata": {
    "scrolled": true
   },
   "outputs": [],
   "source": [
    "objectiveScores = [[8,2],\n",
    "                   [4,1],\n",
    "                   [2,3],\n",
    "                   [1,2],\n",
    "                   [9,1],\n",
    "                   [4,7],\n",
    "                   [2,5],\n",
    "                   [1,3],\n",
    "                   [10,7],\n",
    "                   [5,5]]\n",
    "expectation = [[2, 4],\n",
    "              [],\n",
    "              [4,8],\n",
    "              [],\n",
    "              [2],\n",
    "              [2,3,4,7,8],\n",
    "              [3,4,8],\n",
    "              [4],\n",
    "              [1,2,3,4,5,6,7,8,10],\n",
    "              [2,3,4,7,8]]\n",
    "\n",
    "examPopulation = binaryGenotype.initialization(len(objectiveScores), **config['initialization_kwargs'])\n",
    "\n",
    "# assigning objectives this way for demo purposes only\n",
    "for idx in range(len(objectiveScores)):\n",
    "    examPopulation[idx].objectives = objectiveScores[idx]\n",
    "\n",
    "print('ID\\t Dominates')\n",
    "\n",
    "# Note that this implementation of a domination table has some quirks so it matches the exam.\n",
    "# Advise caution if you copy this code later because you should probably modify it.\n",
    "for idx in range(len(examPopulation)):\n",
    "    dominationList = list()\n",
    "    for opponentIdx in range(len(examPopulation)):\n",
    "        if idx == opponentIdx:\n",
    "            continue\n",
    "        if dominates(examPopulation[idx], examPopulation[opponentIdx]):\n",
    "            dominationList.append(opponentIdx+1)\n",
    "    print(f'{idx+1}\\t{dominationList}', end='')\n",
    "    if dominationList != expectation[idx]:\n",
    "        print(f'\\texpected {expectation[idx]}')\n",
    "    else:\n",
    "        print()\n",
    "del examPopulation\n",
    "del expectation"
   ]
  },
  {
   "cell_type": "markdown",
   "id": "995b07bf",
   "metadata": {},
   "source": [
    "## Non-domination Sort\n",
    "With the `dominates` function implemented, you can now implement the `non_domination_sort` function. This function takes as input a population and has three main steps:\n",
    "1. Calculate a domination lookup table (this is technically optional but provides a drastic speedup)\n",
    "2. Sort individuals into levels of non-domination with the algorithm performed in class and where level 0 is the Pareto front\n",
    "3. Assign each individual a representative fitness to their `fitness` member variable equal to the number of non-domination levels minus the level of the individual\n",
    "\n",
    "Note: you may implement additional helper functions to call within `non-domination_sort` so long as calling the `non_domination_sort` function produces the expected results."
   ]
  },
  {
   "cell_type": "code",
   "execution_count": null,
   "id": "396443ee",
   "metadata": {},
   "outputs": [],
   "source": [
    "def non_domination_sort(population, crowding=False, **kwargs):\n",
    "    # calculate domination table\n",
    "    pass\n",
    "    \n",
    "    # sort into levels of non-domination\n",
    "    pass\n",
    "    \n",
    "    # calculate representative fitness\n",
    "    if crowding==False:\n",
    "        # GREEN deliverable code goes here\n",
    "        pass\n",
    "    else:\n",
    "        # YELLOW deliverable code for crowding goes here\n",
    "        pass"
   ]
  },
  {
   "cell_type": "markdown",
   "id": "53592621",
   "metadata": {},
   "source": [
    "We'll evaluate your `non_domination_sort` implementation using the same exam question we used to evaluate `dominates`. As such, your algorithm should generate `fitness` values that describe a non-domination sort with a similar result to that in the model answer."
   ]
  },
  {
   "cell_type": "code",
   "execution_count": null,
   "id": "be6861ff",
   "metadata": {},
   "outputs": [],
   "source": [
    "config = readConfig('./configs/green1d_config.txt', globalVars=globals(), localVars=locals())\n",
    "\n",
    "examPopulation = binaryGenotype.initialization(len(objectiveScores), **config['initialization_kwargs'])\n",
    "\n",
    "# assigning objectives this way for demo purposes only\n",
    "for idx in range(len(objectiveScores)):\n",
    "    examPopulation[idx].objectives = objectiveScores[idx]\n",
    "\n",
    "# calling your function to test it out\n",
    "non_domination_sort(examPopulation, **config['EA_configs'])\n",
    "\n",
    "print(f'Individuals with unassigned fitness: {len([individual.fitness for individual in examPopulation if individual.fitness is None])}')\n",
    "print(f'Number of fitness evaluations performed: {len([individual.fitness for individual in examPopulation if individual.fitness is not None])}')\n",
    "\n",
    "fitnesses = set()\n",
    "\n",
    "for individual in examPopulation:\n",
    "    if individual.fitness is not None:\n",
    "        # truncate the fitness values in case you've implemented the YELLOW deliverable\n",
    "        individual.fitness = int(individual.fitness)\n",
    "    fitnesses.add(individual.fitness)\n",
    "\n",
    "fitnesses = sorted(list(fitnesses), reverse=True)\n",
    "print('\\nLevels of non-domination after adding all elements')\n",
    "for levelIdx in range(len(fitnesses)):\n",
    "    print(f'level {levelIdx}: {sorted([ind+1 for ind in range(len(examPopulation)) if examPopulation[ind].fitness == fitnesses[levelIdx]])}')\n",
    "\n",
    "del examPopulation"
   ]
  },
  {
   "cell_type": "markdown",
   "id": "93ac4c0b",
   "metadata": {},
   "source": [
    "## Assembling the MOEA\n",
    "Now that you have `evaluate_fitness`, `dominates`, and `non_domination_sort` functions implemented, you can assemble your complete MOEA using the `baseEvolutionPopulation` population class you implemented in Assignment 1b. There are, however, some small differences from a single-objective EA that we'll walk you through in the following example."
   ]
  },
  {
   "cell_type": "code",
   "execution_count": null,
   "id": "66f395f5",
   "metadata": {},
   "outputs": [],
   "source": [
    "from baseEvolution import baseEvolutionPopulation\n",
    "\n",
    "config = readConfig('./configs/green1d_config.txt', globalVars=globals(), localVars=locals())\n",
    "\n",
    "# full initialization of your EA\n",
    "exampleEA = baseEvolutionPopulation(**config['EA_configs'], **config)\n",
    "evaluate_population(exampleEA.population, config['fitness_kwargs'])\n",
    "\n",
    "# evaluate initial population\n",
    "exampleEA.evaluations = len(exampleEA.population)\n",
    "print(f'Number of fitness evaluations: {exampleEA.evaluations}')"
   ]
  },
  {
   "cell_type": "markdown",
   "id": "9b018919",
   "metadata": {},
   "source": [
    "Until this point, the EA has gone as expected. We've read a config, initialized the EA, and evaluated the initial population. Recall, however, that the fitness evaluation only assigns objective scores that can't directly be used as single-value fitness in evolution. To calculate a single fitness value and evolve as usual, we have to add a call to the new `non_domination_sort` before entering child generation (and parent selection)."
   ]
  },
  {
   "cell_type": "code",
   "execution_count": null,
   "id": "bbb4dc97",
   "metadata": {},
   "outputs": [],
   "source": [
    "# sort population and assign representative fitness\n",
    "non_domination_sort(exampleEA.population)"
   ]
  },
  {
   "cell_type": "markdown",
   "id": "e8c3860c",
   "metadata": {},
   "source": [
    "Once `non_domination_sort` has been called, the EA can generate children. Once the children are evaluated for objective scores and have been added to the population, we need to re-sort the population and re-calculate representative fitness before entering survival selection. As a rule of thumb, you'll need to re-calculate representative fitness using `non_domination_sort` before each function call that utilizes a selection algorithm."
   ]
  },
  {
   "cell_type": "code",
   "execution_count": null,
   "id": "e919b778",
   "metadata": {},
   "outputs": [],
   "source": [
    "# generate children\n",
    "children = exampleEA.generate_children()\n",
    "evaluate_population(children, config['fitness_kwargs'])\n",
    "exampleEA.evaluations += len(children)\n",
    "print(f'Number of fitness evaluations: {exampleEA.evaluations}')\n",
    "\n",
    "# re-sort modified population and assign representative fitness\n",
    "non_domination_sort(exampleEA.population)\n",
    "\n",
    "# perform survival selection\n",
    "exampleEA.survival()\n",
    "\n",
    "del exampleEA # to prevent haphazard copypasta"
   ]
  },
  {
   "cell_type": "markdown",
   "id": "ae3a607d",
   "metadata": {},
   "source": [
    "The calls to `non_domination_sort` are new additions to the EA cycle, but otherwise the MOEA cycle closely resembles that of previous assignments.\n",
    "\n",
    "Now that you've implemented the necessary functions and the MOEA cycle has been demonstrated, implement a single run of your MOEA that searches for 2,000 fitness evaluations."
   ]
  },
  {
   "cell_type": "code",
   "execution_count": null,
   "id": "e3f31a80",
   "metadata": {},
   "outputs": [],
   "source": [
    "number_evaluations = 2000\n",
    "\n",
    "# You can parse different configuration files here as necessary\n",
    "config = readConfig('./configs/green1d_config.txt', globalVars=globals(), localVars=locals())\n",
    "\n",
    "# implement your EA here\n"
   ]
  },
  {
   "cell_type": "markdown",
   "id": "269d16d9",
   "metadata": {},
   "source": [
    "Now that you've tested an implementation of a single run, implement code to perform 30 runs of your MOEA search that each contain 2,000 evaluations. For each generation of each run, log the mean and best values for all objectives in the current population as well as the number of fitness evaluations performed so far (including the initial population). Also for each run, record the objective scores and maps (either game logs or the genes) for all individuals in the Pareto front of the final generation. The maps and objective scores will be used for analysis in your report.\n",
    "\n",
    "If you have attempted the YELLOW deliverable, you should record the diversity of the Pareto front from the final population of each run using a diversity metric of your choice."
   ]
  },
  {
   "cell_type": "code",
   "execution_count": null,
   "id": "15455a52",
   "metadata": {},
   "outputs": [],
   "source": [
    "number_runs = 30\n",
    "number_evaluations = 2000\n",
    "\n",
    "# You can parse different configuration files here as necessary\n",
    "config = readConfig('./configs/green1d_config.txt', globalVars=globals(), localVars=locals())\n",
    "\n",
    "# implement your multi-run experiment here\n"
   ]
  },
  {
   "cell_type": "markdown",
   "id": "fe12bb45",
   "metadata": {},
   "source": [
    "## Report\n",
    "Comparing multi-objective performance is a [known-difficult problem](http://lopez-ibanez.eu/hypervolume) we consider to be outside the scope of this class. The required analysis and statistics requirements vary per deliverable. See the assignment description for more details."
   ]
  }
 ],
 "metadata": {
  "kernelspec": {
   "display_name": "Python 3",
   "language": "python",
   "name": "python3"
  },
  "language_info": {
   "codemirror_mode": {
    "name": "ipython",
    "version": 3
   },
   "file_extension": ".py",
   "mimetype": "text/x-python",
   "name": "python",
   "nbconvert_exporter": "python",
   "pygments_lexer": "ipython3",
   "version": "3.8.8"
  }
 },
 "nbformat": 4,
 "nbformat_minor": 5
}
