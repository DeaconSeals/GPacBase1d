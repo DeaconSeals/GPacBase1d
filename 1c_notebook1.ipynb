{
 "cells": [
  {
   "cell_type": "markdown",
   "id": "1ff01810",
   "metadata": {},
   "source": [
    "# Assignment 1c Notebook: Self-Adaptive Parameter Control\n",
    "This notebook will guide you throught the second part of this two-part assignment: building an EA with self-adaptive parameter control. If you haven't completed `1c_notebook0.ipynb` yet, progress no further and complete that notebook first!\n",
    "\n",
    "As usual, be sure to **read all of this notebook** and you can start by executing the next cell."
   ]
  },
  {
   "cell_type": "code",
   "execution_count": null,
   "id": "65612fbb",
   "metadata": {},
   "outputs": [],
   "source": [
    "# Configure this notebook to automatically reload modules as they're modified\n",
    "# https://stackoverflow.com/questions/1907993/autoreload-of-modules-in-ipython\n",
    "%load_ext autoreload\n",
    "%autoreload 2\n",
    "\n",
    "import matplotlib.pyplot as plt\n",
    "\n",
    "%matplotlib inline\n",
    "plt.rcParams['figure.figsize'] = (12.0, 12.0) # set default size of plots\n",
    "plt.rcParams['image.interpolation'] = 'nearest'\n",
    "\n",
    "# Note: we're skipping the plotMaze function from the other notebooks, but \n",
    "# you're welcome to copy and paste it here if you want to look at mazes in-notebook.\n",
    "\n",
    "print('The first cell has been executed!')"
   ]
  },
  {
   "cell_type": "markdown",
   "id": "215e860e",
   "metadata": {},
   "source": [
    "## Self-Adaptive Paremeter Control\n",
    "First off, let's clear something up.\n",
    "\n",
    "**Adaptive paremeter control $\\neq$ self-adaptive paremeter control.**\n",
    "\n",
    "We see multiple students every year who conflate these two techniques and we'd like to take the opportunity to explicitely say that they are different. In *adaptive* parameter control, one might dynamically set mutation rate based on the diversity of the entire population. In *self-adaptive* paremeter control, mutation rate (or some other parameter) is encoded within each individual of the population as an additional chromosome. This chromosome is then used as a parameter that only effects the individual or a small portion of the population (but ideally not the entire population).\n",
    "\n",
    "The intuition behind self-adaptive parameter control is that there is a correlation between high fitness individuals and the parameter chromosome(s) encoded within them. In other words: if a parameter chromosome produces high-quality solutions, then that parameter chromosome has a greater chance of propagating with the high-quality solution chromosomes. This, in theory, allows evolution to tune itself to some extent.\n",
    "\n",
    "In this assignment, you'll implement a self-adaptive mutation rate where a child's chance to mutate is determined by the mutation rate chromosome they carry. We'll accomplish this by inheriting class definitions you've already implemented so we can rewrite as little code as possible.\n",
    "\n",
    "To begin, implement the `randomInitialization` member function in `selfAdaptiveGenotype.py` and test it out in the next cell."
   ]
  },
  {
   "cell_type": "code",
   "execution_count": null,
   "id": "4ec8a723",
   "metadata": {},
   "outputs": [],
   "source": [
    "from selection import *\n",
    "from snakeeyes import readConfig\n",
    "from selfAdaptiveGenotype import selfAdaptiveGenotype\n",
    "from fitness import repair_and_test_map\n",
    "\n",
    "config = readConfig('./configs/green1c1_config.txt', globalVars=globals(), localVars=locals())\n",
    "\n",
    "testSolution = selfAdaptiveGenotype()\n",
    "testSolution.randomInitialization(**config['initialization_kwargs'])\n",
    "\n",
    "min_parameter = config['initialization_kwargs']['min_parameter']\n",
    "max_parameter = config['initialization_kwargs']['max_parameter']\n",
    "print(f'The randomInitialization function did something? {testSolution.parameter is not None}')\n",
    "print(f\"The individual's mutation rate was {testSolution.parameter}\")\n",
    "print(f'mutation rate was within the right range? {min_parameter <= testSolution.parameter <= max_parameter}')\n",
    "\n",
    "testSolution.fitness, testSolution.log = repair_and_test_map(testSolution.gene, **config['fitness_kwargs'])\n",
    "\n",
    "game_log_path = 'worldFiles/1cnotebooktest.txt'\n",
    "with open(game_log_path, 'w') as f:\n",
    "\t[f.write(f'{line}\\n') for line in testSolution.log]\n",
    "    \n",
    "print(f\"The solution's fitness was {testSolution.fitness} and the game log was written to {game_log_path}\")\n",
    "del testSolution # to discourage haphazard copypasta"
   ]
  },
  {
   "cell_type": "markdown",
   "id": "71994b79",
   "metadata": {},
   "source": [
    "Assuming `selfAdaptiveGenotype.randomInitialization` is implemented correctly, you should automatically get the `initialization` class method via inheritance without the need for any additional modification. Test your `randomInitialization` at a slightly larger scale in the next cell."
   ]
  },
  {
   "cell_type": "code",
   "execution_count": null,
   "id": "bcabdcc4",
   "metadata": {},
   "outputs": [],
   "source": [
    "examplePopulation = selfAdaptiveGenotype.initialization(10, **config['initialization_kwargs'])\n",
    "\n",
    "print(f'Population size: {len(examplePopulation)}')\n",
    "print(f'Number of uninitialized individuals: {len([individual.parameter for individual in examplePopulation if individual.parameter is None])}')\n",
    "print(f'Number of individuals with out of bounds mutation rate: {len([individual.parameter for individual in examplePopulation if not (min_parameter <= individual.parameter <= max_parameter)])}')\n",
    "del examplePopulation # to discourage haphazard copypasta"
   ]
  },
  {
   "cell_type": "markdown",
   "id": "0bc0bb3a",
   "metadata": {},
   "source": [
    "## Fitness Evaluation\n",
    "In the next cell, write a function to evaluate the fitness of an input population. Note that this should be the *vanilla* (non-penalized) fitness evaluation like you implemented in Assignment 1b and not the penalized fitness you implemented in the first 1c notebook. So that you can copy your 1b evaluation function over more easily, we'll use the same parameter interface as the 1b notebook."
   ]
  },
  {
   "cell_type": "code",
   "execution_count": null,
   "id": "02cc9e42",
   "metadata": {},
   "outputs": [],
   "source": [
    "# evaluate the population and assign fitness and logs as described above\n",
    "def evaluate_population(population, fitness_kwargs):\n",
    "    pass"
   ]
  },
  {
   "cell_type": "code",
   "execution_count": null,
   "id": "6ee82028",
   "metadata": {},
   "outputs": [],
   "source": [
    "import statistics\n",
    "\n",
    "examplePopulation = selfAdaptiveGenotype.initialization(10, **config['initialization_kwargs'])\n",
    "\n",
    "# calling your function to test things out\n",
    "evaluate_population(examplePopulation, config['fitness_kwargs'])\n",
    "\n",
    "print(f'Individuals with unassigned fitness: {len([individual.fitness for individual in examplePopulation if individual.fitness is None])}')\n",
    "print(f'Number of fitness evaluations performed: {len([individual.fitness for individual in examplePopulation if individual.fitness is not None])}')\n",
    "print(f'Average fitness of population: {statistics.mean([individual.fitness for individual in examplePopulation])}')\n",
    "maxFitness = max([individual.fitness for individual in examplePopulation])\n",
    "print(f'Best fitness in population: {maxFitness}')\n",
    "bestLog = None\n",
    "for individual in examplePopulation:\n",
    "    if individual.fitness == maxFitness:\n",
    "        bestLog = individual.log\n",
    "        break\n",
    "\n",
    "print(f'Found log of highest scoring individual? {bestLog is not None}')\n",
    "with open(game_log_path, 'w') as f:\n",
    "\t[f.write(f'{line}\\n') for line in bestLog]\n",
    "    \n",
    "print(f\"The log of the most fit individual was written to {game_log_path}\")\n",
    "del examplePopulation # to discourage haphazard copypasta"
   ]
  },
  {
   "cell_type": "markdown",
   "id": "ae186b64",
   "metadata": {},
   "source": [
    "## Recombination\n",
    "Now that fitness evaluation is up and running, implement the `recombination` method in `selfAdaptiveGenotype.py` and test it in the next cell."
   ]
  },
  {
   "cell_type": "code",
   "execution_count": null,
   "id": "00161eaa",
   "metadata": {},
   "outputs": [],
   "source": [
    "config = readConfig('./configs/green1c1_config.txt', globalVars=globals(), localVars=locals())\n",
    "\n",
    "parents = selfAdaptiveGenotype.initialization(2, **config['initialization_kwargs'])\n",
    "evaluate_population(parents, config['fitness_kwargs'])\n",
    "\n",
    "parent0 = parents[0]\n",
    "parent1 = parents[1]\n",
    "\n",
    "child = parent0.recombine(parent1, **config['recombination_kwargs'])\n",
    "print(f'The function did something? {child.parameter is not None}')\n",
    "del parents"
   ]
  },
  {
   "cell_type": "markdown",
   "id": "3fdc2f61",
   "metadata": {},
   "source": [
    "## Mutation\n",
    "Finish the implementation of `selfAdaptiveGenotype.py` by implementing the `mutate` method and testing it in the following cell."
   ]
  },
  {
   "cell_type": "code",
   "execution_count": null,
   "id": "bb56cdec",
   "metadata": {},
   "outputs": [],
   "source": [
    "config = readConfig('./configs/green1c1_config.txt', globalVars=globals(), localVars=locals())\n",
    "mutant = child.mutate(**config['mutation_kwargs'])\n",
    "print(f'The function did something? {child.parameter != mutant.parameter}')\n",
    "del mutant"
   ]
  },
  {
   "cell_type": "markdown",
   "id": "6c1181b9",
   "metadata": {},
   "source": [
    "## Child generation\n",
    "With the self-adaptive genotype implmented, the EA class only requires minor modifications to use a `generate_children` function that mutates children based on the `parameter` chromosome they contain. To accomplish this, implement the `generate_children` member function in `selfAdaptiveEvolution.py` and test the updated EA class in the next cell."
   ]
  },
  {
   "cell_type": "code",
   "execution_count": null,
   "id": "646071f7",
   "metadata": {},
   "outputs": [],
   "source": [
    "from selfAdaptiveEvolution import selfAdaptiveEvolutionPopulation\n",
    "\n",
    "config = readConfig('./configs/green1c1_config.txt', globalVars=globals(), localVars=locals())\n",
    "\n",
    "exampleEA = selfAdaptiveEvolutionPopulation(**config['EA_configs'], **config)\n",
    "evaluate_population(exampleEA.population, config['fitness_kwargs'])\n",
    "exampleEA.evaluations = len(exampleEA.population)\n",
    "print(f'Average fitness of population: {statistics.mean([individual.fitness for individual in exampleEA.population])}')\n",
    "print(f'Best fitness in population: {max([individual.fitness for individual in exampleEA.population])}')\n",
    "print(f'Number of fitness evaluations: {exampleEA.evaluations}')\n",
    "\n",
    "children = exampleEA.generate_children()\n",
    "evaluate_population(children, config['fitness_kwargs'])\n",
    "exampleEA.evaluations += len(children)\n",
    "print(f'Average fitness of children: {statistics.mean([individual.fitness for individual in children])}')\n",
    "print(f'Best fitness of children: {max([individual.fitness for individual in children])}')\n",
    "print(f'Number of fitness evaluations: {exampleEA.evaluations}')\n",
    "\n",
    "exampleEA.population += children\n",
    "\n",
    "exampleEA.survival()\n",
    "print(f'Average fitness of population: {statistics.mean([individual.fitness for individual in exampleEA.population])}')\n",
    "print(f'Best fitness in population: {max([individual.fitness for individual in exampleEA.population])}')\n",
    "del exampleEA"
   ]
  },
  {
   "cell_type": "markdown",
   "id": "30e8a88d",
   "metadata": {},
   "source": [
    "You may have noticed that the EA class automatically used your `selfAdaptiveGenotype` class. That's because the class is passed as an object via the config file to minimize the amount of rewriting your EA!\n",
    "\n",
    "## Experimentation\n",
    "Now that you've implemented a full EA with self-adaptive parameter control, it's time to set up experiments! To begin, start out by performing a single run of your EA in the next cell. Note that this will likely be nearly identical to the single run experiment you wrote in the 1b notebook except for the use of a new config file and EA class. Be very careful to use the right config file if you copy and paste!"
   ]
  },
  {
   "cell_type": "code",
   "execution_count": null,
   "id": "6479dea5",
   "metadata": {},
   "outputs": [],
   "source": [
    "number_evaluations = 2000\n",
    "\n",
    "# You can parse different configuration files here as necessary\n",
    "config = readConfig('./configs/green1c1_config.txt', globalVars=globals(), localVars=locals())\n",
    "\n",
    "# implement your EA here\n"
   ]
  },
  {
   "cell_type": "markdown",
   "id": "0e62a598",
   "metadata": {},
   "source": [
    "Now, implement code to perform 30 runs of your EA search that each contain 2,000 evaluations. For each generation of each run, log the mean and best fitness of the current population, **the average mutation_rate of the current population**, and well as the number of fitness evaluations performed so far (including the initial population). Also for each run, record the best fitness found during the run."
   ]
  },
  {
   "cell_type": "code",
   "execution_count": null,
   "id": "2b748ce9",
   "metadata": {},
   "outputs": [],
   "source": [
    "number_runs = 30\n",
    "number_evaluations = 2000\n",
    "\n",
    "# You can parse different configuration files here as necessary\n",
    "config = readConfig('./configs/green1c1_config.txt', globalVars=globals(), localVars=locals())\n",
    "\n",
    "# implement your multi-run experiment here\n"
   ]
  },
  {
   "cell_type": "markdown",
   "id": "744c0e50",
   "metadata": {},
   "source": [
    "## Report\n",
    "Using the data you've collected from your 30 run experiment, average per-generation across all runs to find the average mean and maximum population fitnesses **as well as average mutation_rate** across 30 runs. Using this data, produce a plot that shows the mean and best fitness **as well as mean mutation_rate** per number of fitness evaluations averaged over 30 runs. This is the same plot as Assignment 1b **but with a line for mutation_rate**. Include this in your report along with any statistical analysis or additional requested components from the assignment description. Statistical analysis should consist of a comparison between best per-run fitness values of your 1b and 1c EA searches. Use data generated with the 1b notebook to compare against your 1c EA results."
   ]
  }
 ],
 "metadata": {
  "kernelspec": {
   "display_name": "Python 3",
   "language": "python",
   "name": "python3"
  },
  "language_info": {
   "codemirror_mode": {
    "name": "ipython",
    "version": 3
   },
   "file_extension": ".py",
   "mimetype": "text/x-python",
   "name": "python",
   "nbconvert_exporter": "python",
   "pygments_lexer": "ipython3",
   "version": "3.8.8"
  }
 },
 "nbformat": 4,
 "nbformat_minor": 5
}
