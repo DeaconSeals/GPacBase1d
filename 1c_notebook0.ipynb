{
 "cells": [
  {
   "cell_type": "markdown",
   "id": "b833eb66",
   "metadata": {},
   "source": [
    "# Assignment 1c Notebook: Constraint Satisfaction EA\n",
    "This notebook further iterates on the progress made in Assignment 1b and will guide you through the first part of this two-part assignment: building a constraint satisfaction EA. Similar to the last assignment, you should copy over the following files:\n",
    "* 1a_notebook.ipynb\n",
    "* 1b_notebook.ipynb\n",
    "* baseEvolution.py\n",
    "* binaryGenotype.py\n",
    "* selection.py\n",
    "\n",
    "*Be careful* to not copy over functions relating to the provided fitness functions, GPac, and static agents. We may have changed those and we want you to have the versions that were provided with this repo.\n",
    "\n",
    "As usual, be sure to **read all of this notebook** and you can start by executing the next cell."
   ]
  },
  {
   "cell_type": "code",
   "execution_count": null,
   "id": "d5365738",
   "metadata": {},
   "outputs": [],
   "source": [
    "# Configure this notebook to automatically reload modules as they're modified\n",
    "# https://stackoverflow.com/questions/1907993/autoreload-of-modules-in-ipython\n",
    "%load_ext autoreload\n",
    "%autoreload 2\n",
    "\n",
    "import matplotlib.pyplot as plt\n",
    "\n",
    "%matplotlib inline\n",
    "plt.rcParams['figure.figsize'] = (12.0, 12.0) # set default size of plots\n",
    "plt.rcParams['image.interpolation'] = 'nearest'\n",
    "\n",
    "# Note: we're skipping the plotMaze function from the other notebooks, but \n",
    "# you're welcome to copy and paste it here if you want to look at mazes in-notebook.\n",
    "\n",
    "print('The first cell has been executed!')"
   ]
  },
  {
   "cell_type": "markdown",
   "id": "7ebab0fa",
   "metadata": {},
   "source": [
    "## Constraint satisfaction\n",
    "You may recall from the lectures that there are multiple ways to handle constraints in an EA. You can employ the following techniques:\n",
    "* ignore constraints\n",
    "* kill invalid offspring\n",
    "* feasible phenotype mapping decoder\n",
    "* repair function\n",
    "* feasible solution space closed under variation operators\n",
    "* penalty function\n",
    "\n",
    "For this assignment, we're going to guide you through the process of making a  constraint satisfaction EA using a penalty function. This means that fitness will reflect not only the performance of the map but also how well the solution satisfies the constraint of a valid GPac map. Consequently, evolution will (hopefully) evolve maps that are increasingly difficult for pac-man *and* increasingly valid.\n",
    "\n",
    "At this point, you might be asking the very sane question: *isn't there already a repair function?* \n",
    "\n",
    "Well... yes, GPac has constraints such that the mechanics of the game simply don't work if there's not a path between the spawn of pac-man and the ghosts or if pills/fruit can spawn in unreachable locations. You would typically use *either* a repair function or a penalty function, but in this assignment we're going to have you calculate a penalty based on the number of walls the repair function had to modify to create a valid GPac map. This is essentially evolving to minimize the impact (and any bias) of the repair function.\n",
    "\n",
    "The following cell demonstrates how to determine the number of repairs made. Note that the behavior of `repair_and_test_map` is different from 1b because the config file contains an extra parameter assignment `return_repair_count = True`."
   ]
  },
  {
   "cell_type": "code",
   "execution_count": null,
   "id": "0651a187",
   "metadata": {},
   "outputs": [],
   "source": [
    "from selection import *\n",
    "from snakeeyes import readConfig\n",
    "from binaryGenotype import binaryGenotype\n",
    "from fitness import repair_and_test_map\n",
    "\n",
    "config = readConfig('./configs/green1c0_config.txt', globalVars=globals(), localVars=locals())\n",
    "\n",
    "testSolution = binaryGenotype()\n",
    "testSolution.randomInitialization(**config['initialization_kwargs'])\n",
    "\n",
    "testSolution.rawFitness, testSolution.log, numRepairs = repair_and_test_map(testSolution.gene, **config['fitness_kwargs'])\n",
    "\n",
    "game_log_path = 'worldFiles/1cnotebooktest.txt'\n",
    "with open(game_log_path, 'w') as f:\n",
    "\t[f.write(f'{line}\\n') for line in testSolution.log]\n",
    "    \n",
    "print(f\"The solution's unpenalized (raw) fitness was {testSolution.rawFitness} and the game log was written to {game_log_path}\")\n",
    "print(f'The number of repairs made to the genotype: {numRepairs}')"
   ]
  },
  {
   "cell_type": "markdown",
   "id": "02d1e7dd",
   "metadata": {},
   "source": [
    "Note that we assigned a new member variable `rawFitness` with the unpenalized fitness returned by `repair_and_test_map`. This is so that you can perform stats using *this* value to compare against your implementation from 1b and the results will be comparable since both algorithms report the same (unpenalized) notion of fitness. To be abundantly clear: **it is invalid to compare penalized with unpenalized fitness in your statistical analysis!**\n",
    "\n",
    "Now that we know the number of repairs made, we can calculate penalized fitness and assign it to the individual as follows:"
   ]
  },
  {
   "cell_type": "code",
   "execution_count": null,
   "id": "e188feee",
   "metadata": {},
   "outputs": [],
   "source": [
    "penalty_coefficient = config['fitness_kwargs']['penalty_coefficient'] # we'll present a more graceful way of accessing this\n",
    "\n",
    "testSolution.fitness = testSolution.rawFitness - penalty_coefficient*numRepairs\n",
    "\n",
    "print(f\"The solution's penalized fitness was {testSolution.fitness}\")\n",
    "\n",
    "del testSolution # to discourage haphazard copypasta"
   ]
  },
  {
   "cell_type": "markdown",
   "id": "7625c11b",
   "metadata": {},
   "source": [
    "Now that we've demonstrated how to calculate penalized fitness and store unpenalized fitness for logging purposes, it's your turn to write a function that evaluates an input population. Notice that the inputs are a little different than assignment 1b and this function will strip off the `penalty_coefficient` parameter and pass all other keyword arguments into a dictionary you can use with `**fitness_kwargs`. We'll call this function a little differently as a result (see the cell after next for more details).\n",
    "\n",
    "#### Note on YELLOW 1 Deliverable\n",
    "If you're attempting the YELLOW 1 deliverable, complete this notebook and notebook `1c_notebook1.ipynb`, return to this cell, and then modify the following cell to use a self-adaptive penalty coefficient. Note however that you should not delete or completely overwrite the original funcitonality required for the green deliverables. In other words, the later cells in this notebook should work correctly with the config files `green1c0_config.txt1` *and* `yellow1c_config.txt`."
   ]
  },
  {
   "cell_type": "code",
   "execution_count": null,
   "id": "84fa94ab",
   "metadata": {},
   "outputs": [],
   "source": [
    "# evaluate the population and assign fitness, rawFitness, and logs as described above\n",
    "def evaluate_population(population, penalty_coefficient, **fitness_kwargs):\n",
    "    pass"
   ]
  },
  {
   "cell_type": "code",
   "execution_count": null,
   "id": "1e60f8d7",
   "metadata": {},
   "outputs": [],
   "source": [
    "import statistics\n",
    "\n",
    "examplePopulation = binaryGenotype.initialization(10, **config['initialization_kwargs'])\n",
    "\n",
    "# calling your function to test things out (this line is different than notebook 1b)\n",
    "evaluate_population(examplePopulation, **config['fitness_kwargs'])\n",
    "\n",
    "print(f'Individuals with unassigned fitness: {len([individual.fitness for individual in examplePopulation if individual.fitness is None])}')\n",
    "print(f'Number of fitness evaluations performed: {len([individual.fitness for individual in examplePopulation if individual.fitness is not None])}')\n",
    "print(f'Average fitness of population: {statistics.mean([individual.fitness for individual in examplePopulation])}')\n",
    "maxFitness = max([individual.fitness for individual in examplePopulation])\n",
    "print(f'Best fitness in population: {maxFitness}')\n",
    "print(f'Average unpenalized (raw) fitness of population: {statistics.mean([individual.rawFitness for individual in examplePopulation])}')\n",
    "maxRawFitness = max([individual.rawFitness for individual in examplePopulation])\n",
    "print(f'Best unpenalized (raw) fitness in population: {maxRawFitness}')\n",
    "bestLog = None\n",
    "for individual in examplePopulation:\n",
    "    if individual.fitness == maxFitness:\n",
    "        bestLog = individual.log\n",
    "        break\n",
    "\n",
    "print(f'Found log of highest scoring individual? {bestLog is not None}')\n",
    "with open(game_log_path, 'w') as f:\n",
    "\t[f.write(f'{line}\\n') for line in bestLog]\n",
    "    \n",
    "print(f\"The log of the most fit individual was written to {game_log_path}\")\n",
    "\n",
    "del examplePopulation # to discourage haphazard copypasta"
   ]
  },
  {
   "cell_type": "markdown",
   "id": "e4e02a5b",
   "metadata": {},
   "source": [
    "## Assembling your EA\n",
    "Now you get to use the framework you implemented in Assignment 1b to *just build an EA*. Since your selection operators already function with negative fitness and you assigned penalized fitness to the `fitness` member variable of the individuals in your populations, your existing EA framework should work without the need for modification. Neat!\n",
    "\n",
    "As usual, we'll have you start out by performing a single run of your EA that performs 2,000 evaluations. Note that this cell can be nearly identical to a cell from 1b except the call to `evaluate_population` will differ slightly."
   ]
  },
  {
   "cell_type": "code",
   "execution_count": null,
   "id": "6c9b2930",
   "metadata": {},
   "outputs": [],
   "source": [
    "number_evaluations = 2000\n",
    "\n",
    "# You can parse different configuration files here as necessary\n",
    "config = readConfig('./configs/green1c0_config.txt', globalVars=globals(), localVars=locals())\n",
    "\n",
    "# implement your EA here\n"
   ]
  },
  {
   "cell_type": "markdown",
   "id": "f5ce522d",
   "metadata": {},
   "source": [
    "Now that you've tested an implmentation of a single run, implement code to perform 30 runs of your EA search that each contain 2,000 evaluations. For each generation of each run, log the mean and best fitness of the current population as well as the number of fitness evaluations performed so far (including the initial population). Also for each run, record the best **unpenalized (raw) fitness** found during the run."
   ]
  },
  {
   "cell_type": "code",
   "execution_count": null,
   "id": "50106ec8",
   "metadata": {},
   "outputs": [],
   "source": [
    "number_runs = 30\n",
    "number_evaluations = 2000\n",
    "\n",
    "# You can parse different configuration files here as necessary\n",
    "config = readConfig('./configs/green1c0_config.txt', globalVars=globals(), localVars=locals())\n",
    "\n",
    "# implement your multi-run experiment here\n"
   ]
  },
  {
   "cell_type": "markdown",
   "id": "060d053e",
   "metadata": {},
   "source": [
    "## Report\n",
    "Using the data you've collected from your 30 run experiment, average per-generation across all runs to find the average mean and maximum population fitnesses across 30 runs. Using this data, produce a plot that shows the mean and best fitness per number of fitness evaluations averaged over 30 runs. This is the same plot as Assignment 1b. Include this in your report along with any statistical analysis or additional requested components from the assignment description. Statistical analysis should consist of a comparison between best per-run **unpenalized fitness** values of your 1b and 1c EA searches. Use data generated with the 1b notebook to compare against your 1c EA results."
   ]
  }
 ],
 "metadata": {
  "kernelspec": {
   "display_name": "Python 3",
   "language": "python",
   "name": "python3"
  },
  "language_info": {
   "codemirror_mode": {
    "name": "ipython",
    "version": 3
   },
   "file_extension": ".py",
   "mimetype": "text/x-python",
   "name": "python",
   "nbconvert_exporter": "python",
   "pygments_lexer": "ipython3",
   "version": "3.8.8"
  }
 },
 "nbformat": 4,
 "nbformat_minor": 5
}
